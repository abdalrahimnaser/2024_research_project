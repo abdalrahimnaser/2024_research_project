{
 "cells": [
  {
   "cell_type": "code",
   "execution_count": 1,
   "id": "dbed2cb2-3fc4-416c-91d6-fb80456ac41b",
   "metadata": {},
   "outputs": [
    {
     "data": {
      "application/javascript": [
       "\n",
       "try {\n",
       "require(['notebook/js/codecell'], function(codecell) {\n",
       "  codecell.CodeCell.options_default.highlight_modes[\n",
       "      'magic_text/x-csrc'] = {'reg':[/^%%microblaze/]};\n",
       "  Jupyter.notebook.events.one('kernel_ready.Kernel', function(){\n",
       "      Jupyter.notebook.get_cells().map(function(cell){\n",
       "          if (cell.cell_type == 'code'){ cell.auto_highlight(); } }) ;\n",
       "  });\n",
       "});\n",
       "} catch (e) {};\n"
      ]
     },
     "metadata": {},
     "output_type": "display_data"
    },
    {
     "data": {
      "application/javascript": [
       "\n",
       "try {\n",
       "require(['notebook/js/codecell'], function(codecell) {\n",
       "  codecell.CodeCell.options_default.highlight_modes[\n",
       "      'magic_text/x-csrc'] = {'reg':[/^%%pybind11/]};\n",
       "  Jupyter.notebook.events.one('kernel_ready.Kernel', function(){\n",
       "      Jupyter.notebook.get_cells().map(function(cell){\n",
       "          if (cell.cell_type == 'code'){ cell.auto_highlight(); } }) ;\n",
       "  });\n",
       "});\n",
       "} catch (e) {};\n"
      ]
     },
     "metadata": {},
     "output_type": "display_data"
    }
   ],
   "source": [
    "from baseRF import BaseRF\n",
    "from pl_interface import PL_If\n",
    "from sigUtils import SigUtils\n",
    "from plotUtils import PlotUtils\n",
    "import time\n",
    "   \n",
    "base = BaseRF('/home/xilinx/jupyter_notebooks/nn_test/io_kria_2.bit')\n",
    "\n",
    "time.sleep(0.1)\n",
    "\n",
    "pl = PL_If(base)\n",
    "\n",
    "sigUtils = SigUtils()\n",
    "plt = PlotUtils()"
   ]
  },
  {
   "cell_type": "code",
   "execution_count": 2,
   "id": "c05edec4-1300-47ad-b83f-f89b4b8363f2",
   "metadata": {},
   "outputs": [],
   "source": [
    "from scipy import io\n",
    "import numpy as np\n",
    "\n",
    "\n",
    "\n",
    "pSize = 1*1024\n",
    "nPulses = 2\n",
    "x = sigUtils.createSignal(pSize, nPulses, sigName='blackman',amp=0.9, phase=0)\n",
    "\n",
    "x = np.append(x, np.zeros(512))\n",
    "\n",
    "pl.sendSignal(x)\n"
   ]
  },
  {
   "cell_type": "code",
   "execution_count": 4,
   "id": "35d4daa6-a18f-4e2f-bacb-2e57a4f55b1e",
   "metadata": {},
   "outputs": [
    {
     "data": {
      "application/vnd.jupyter.widget-view+json": {
       "model_id": "2edc6264e1ac472582d00d38f6295e26",
       "version_major": 2,
       "version_minor": 0
      },
      "text/plain": [
       "FigureWidget({\n",
       "    'data': [{'line': {'dash': 'solid'},\n",
       "              'mode': 'lines',\n",
       "              'name': '…"
      ]
     },
     "metadata": {},
     "output_type": "display_data"
    },
    {
     "data": {
      "application/vnd.jupyter.widget-view+json": {
       "model_id": "2edc6264e1ac472582d00d38f6295e26",
       "version_major": 2,
       "version_minor": 0
      },
      "text/plain": [
       "FigureWidget({\n",
       "    'data': [{'line': {'dash': 'solid'},\n",
       "              'mode': 'lines',\n",
       "              'name': '…"
      ]
     },
     "metadata": {},
     "output_type": "display_data"
    }
   ],
   "source": [
    "\n",
    "\n",
    "numSamples = 1000 \n",
    "\n",
    "fs_y = 1  \n",
    "fs_x = 1  \n",
    "t_x = np.arange(0,numSamples/fs_x,1/fs_x) \n",
    "t_y = np.arange(0,numSamples/fs_y,1/fs_y) \n",
    "tPlt = [t_x, t_y]\n",
    "\n",
    "x_abs = np.absolute(x)/max(np.absolute(x))\n",
    "\n",
    "y = pl.readSignalBack(numSamples)\n",
    "\n",
    "y_abs_norm = (np.absolute(y/max(abs(y))))\n",
    "\n",
    "sigIn = [x_abs, y_abs_norm]\n",
    "markIn = ['solid', 'solid']\n",
    "plt.new_plot(n=tPlt, sigList=sigIn, mark=markIn, titleIn=\"Channel\"+str(0), nameTrace=['x', 'y0'], im_width=1200, im_height=600)\n",
    "\n"
   ]
  },
  {
   "cell_type": "code",
   "execution_count": null,
   "id": "02363ba0-eaf3-4acc-984f-0011c42a4989",
   "metadata": {},
   "outputs": [],
   "source": []
  }
 ],
 "metadata": {
  "kernelspec": {
   "display_name": "Python 3 (ipykernel)",
   "language": "python",
   "name": "python3"
  },
  "language_info": {
   "codemirror_mode": {
    "name": "ipython",
    "version": 3
   },
   "file_extension": ".py",
   "mimetype": "text/x-python",
   "name": "python",
   "nbconvert_exporter": "python",
   "pygments_lexer": "ipython3",
   "version": "3.10.4"
  }
 },
 "nbformat": 4,
 "nbformat_minor": 5
}
